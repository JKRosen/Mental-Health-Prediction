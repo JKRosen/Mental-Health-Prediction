{
 "cells": [
  {
   "cell_type": "code",
   "execution_count": 1,
   "metadata": {},
   "outputs": [],
   "source": [
    "import pandas as pd\n",
    "d  = pd.read_csv(\"new_DF_withreddit.csv\")"
   ]
  },
  {
   "cell_type": "code",
   "execution_count": 2,
   "metadata": {},
   "outputs": [
    {
     "data": {
      "text/plain": [
       "source  label  illness\n",
       "m       1      ptsd         24\n",
       "        2      ocd         322\n",
       "        3      anx        1865\n",
       "        4      bd         2333\n",
       "        5      dep        3135\n",
       "r       1      ptsd        420\n",
       "        2      ocd         736\n",
       "        3      anx        1251\n",
       "        4      bd         2832\n",
       "        5      dep         471\n",
       "dtype: int64"
      ]
     },
     "execution_count": 2,
     "metadata": {},
     "output_type": "execute_result"
    }
   ],
   "source": [
    "d.groupby([\"source\",\"label\",'illness']).size()"
   ]
  },
  {
   "cell_type": "code",
   "execution_count": 3,
   "metadata": {},
   "outputs": [
    {
     "data": {
      "text/plain": [
       "numpy.int64"
      ]
     },
     "execution_count": 3,
     "metadata": {},
     "output_type": "execute_result"
    }
   ],
   "source": [
    "type(d.iloc[0,3])"
   ]
  },
  {
   "cell_type": "code",
   "execution_count": 4,
   "metadata": {},
   "outputs": [
    {
     "data": {
      "text/plain": [
       "1"
      ]
     },
     "execution_count": 4,
     "metadata": {},
     "output_type": "execute_result"
    }
   ],
   "source": [
    "d.iloc[0,3]"
   ]
  },
  {
   "cell_type": "code",
   "execution_count": 5,
   "metadata": {},
   "outputs": [
    {
     "data": {
      "text/plain": [
       "Index(['source', 'postID', 'illness', 'label', 'wpp', 'Ipp', 'PRON', 'AUX',\n",
       "       'VERB', 'ADP', 'CCONJ', 'NOUN', 'ADJ', 'DET', 'ADV', 'PART', 'SCONJ',\n",
       "       'PROPN', 'NUM', 'INTJ', 'X', 'PUNCT', 'SYM', 'compound', 'neg', 'neu',\n",
       "       'pos'],\n",
       "      dtype='object')"
      ]
     },
     "execution_count": 5,
     "metadata": {},
     "output_type": "execute_result"
    }
   ],
   "source": [
    "d.columns"
   ]
  },
  {
   "cell_type": "markdown",
   "metadata": {},
   "source": [
    "# Collapse Classes"
   ]
  },
  {
   "cell_type": "markdown",
   "metadata": {},
   "source": [
    "We are collapsing classes because they are imbalanced. Classes 1, 2, 3 will be combined because they are smaller and the prediction accuracy for them has been consistently low "
   ]
  },
  {
   "cell_type": "code",
   "execution_count": 16,
   "metadata": {},
   "outputs": [],
   "source": [
    "d['label'] = d[\"label\"].map({1:3,2:3,3:3,4:4,5:5})"
   ]
  },
  {
   "cell_type": "code",
   "execution_count": 17,
   "metadata": {},
   "outputs": [
    {
     "data": {
      "text/plain": [
       "source  label  illness\n",
       "m       3      anx        1865\n",
       "               ocd         322\n",
       "               ptsd         24\n",
       "        4      bd         2333\n",
       "        5      dep        3135\n",
       "r       3      anx        1251\n",
       "               ocd         736\n",
       "               ptsd        420\n",
       "        4      bd         2832\n",
       "        5      dep         471\n",
       "dtype: int64"
      ]
     },
     "execution_count": 17,
     "metadata": {},
     "output_type": "execute_result"
    }
   ],
   "source": [
    "d.groupby([\"source\",\"label\",'illness']).size()"
   ]
  },
  {
   "cell_type": "code",
   "execution_count": 19,
   "metadata": {},
   "outputs": [
    {
     "data": {
      "text/plain": [
       "label\n",
       "3    4618\n",
       "4    5165\n",
       "5    3606\n",
       "dtype: int64"
      ]
     },
     "execution_count": 19,
     "metadata": {},
     "output_type": "execute_result"
    }
   ],
   "source": [
    "d.groupby([\"label\"]).size()"
   ]
  },
  {
   "cell_type": "markdown",
   "metadata": {},
   "source": [
    "# Random Forest"
   ]
  },
  {
   "cell_type": "code",
   "execution_count": 8,
   "metadata": {},
   "outputs": [],
   "source": [
    "import numpy as np\n",
    "from sklearn.utils import shuffle\n",
    "from sklearn.model_selection import train_test_split\n",
    "from sklearn.ensemble import RandomForestClassifier\n"
   ]
  },
  {
   "cell_type": "markdown",
   "metadata": {},
   "source": [
    "### scramble"
   ]
  },
  {
   "cell_type": "code",
   "execution_count": 9,
   "metadata": {},
   "outputs": [],
   "source": [
    "d = d.sample(frac=1).reset_index(drop=True)\n"
   ]
  },
  {
   "cell_type": "markdown",
   "metadata": {},
   "source": [
    "## Random forest; 70/30 split; "
   ]
  },
  {
   "cell_type": "code",
   "execution_count": 10,
   "metadata": {
    "scrolled": true
   },
   "outputs": [
    {
     "name": "stderr",
     "output_type": "stream",
     "text": [
      "C:\\Users\\Jacob Rosen\\Anaconda3\\lib\\site-packages\\ipykernel_launcher.py:1: FutureWarning: Method .as_matrix will be removed in a future version. Use .values instead.\n",
      "  \"\"\"Entry point for launching an IPython kernel.\n"
     ]
    }
   ],
   "source": [
    "d_word0_data = d[d.columns[5:]].as_matrix()"
   ]
  },
  {
   "cell_type": "code",
   "execution_count": 11,
   "metadata": {},
   "outputs": [],
   "source": [
    "features = d_word0_data\n",
    "labels = np.array(d[\"label\"])\n",
    "\n",
    "train_features, test_features, train_labels, test_labels = train_test_split(features, labels, test_size = 0.3)"
   ]
  },
  {
   "cell_type": "code",
   "execution_count": 12,
   "metadata": {},
   "outputs": [
    {
     "name": "stdout",
     "output_type": "stream",
     "text": [
      "Accuracy: 46.2285287528006 %\n"
     ]
    }
   ],
   "source": [
    "rf = RandomForestClassifier(n_estimators=1000,random_state=0, \n",
    "                n_jobs=-1,class_weight = \"balanced\",max_depth = 16)\n",
    "rf.fit(train_features, train_labels)\n",
    "predictions = rf.predict(test_features)\n",
    "# predictions\n",
    "errors = []\n",
    "for x,pre in enumerate(predictions):\n",
    "    if pre != test_labels[x]:\n",
    "        errors.append((pre,test_labels[x],x))\n",
    "# print(len(errors))\n",
    "# print(len(test_labels))\n",
    "print(\"Accuracy:\",(len(test_labels) - len(errors))/len(test_labels)*100,\"%\")\n"
   ]
  },
  {
   "cell_type": "code",
   "execution_count": 13,
   "metadata": {},
   "outputs": [
    {
     "name": "stdout",
     "output_type": "stream",
     "text": [
      "              precision    recall  f1-score   support\n",
      "\n",
      "           1       0.04      0.15      0.06        34\n",
      "           2       0.02      0.38      0.03        13\n",
      "           3       0.17      0.38      0.23       397\n",
      "           4       0.60      0.53      0.56      1798\n",
      "           5       0.69      0.42      0.53      1775\n",
      "\n",
      "   micro avg       0.46      0.46      0.46      4017\n",
      "   macro avg       0.30      0.37      0.28      4017\n",
      "weighted avg       0.59      0.46      0.51      4017\n",
      "\n"
     ]
    }
   ],
   "source": [
    "from sklearn import metrics\n",
    "print(metrics.classification_report(predictions, test_labels))"
   ]
  },
  {
   "cell_type": "markdown",
   "metadata": {},
   "source": [
    "### cross validate"
   ]
  },
  {
   "cell_type": "code",
   "execution_count": 14,
   "metadata": {},
   "outputs": [],
   "source": [
    "#perform four-fold cross-validation of the method\n",
    "def crossvalidate(classifier,X,T,CV=4):\n",
    "    from sklearn.model_selection import cross_val_score\n",
    "    scores = cross_val_score(classifier, X, T, cv=CV)\n",
    "    print('--- 4-fold cross-validation accuracy: %%%.1f (+/-%.1f)' % (scores.mean()*100,scores.std()*100))"
   ]
  },
  {
   "cell_type": "code",
   "execution_count": 15,
   "metadata": {},
   "outputs": [
    {
     "name": "stdout",
     "output_type": "stream",
     "text": [
      "--- 4-fold cross-validation accuracy: %47.6 (+/-0.5)\n"
     ]
    }
   ],
   "source": [
    "rf = RandomForestClassifier(n_estimators=1000,random_state=0, n_jobs=-1)\n",
    "crossvalidate(rf,features,labels,CV=5)"
   ]
  },
  {
   "cell_type": "code",
   "execution_count": null,
   "metadata": {},
   "outputs": [],
   "source": []
  },
  {
   "cell_type": "markdown",
   "metadata": {},
   "source": [
    "## Random forest; 70/30 split; min 20 words"
   ]
  },
  {
   "cell_type": "code",
   "execution_count": 16,
   "metadata": {},
   "outputs": [],
   "source": [
    "mask_word20 = (d[\"wpp\"] >= 20)\n",
    "# mask_word20"
   ]
  },
  {
   "cell_type": "code",
   "execution_count": 17,
   "metadata": {},
   "outputs": [],
   "source": [
    "d_word20 = d[mask_word20]"
   ]
  },
  {
   "cell_type": "code",
   "execution_count": 18,
   "metadata": {},
   "outputs": [
    {
     "name": "stderr",
     "output_type": "stream",
     "text": [
      "C:\\Users\\Jacob Rosen\\Anaconda3\\lib\\site-packages\\ipykernel_launcher.py:2: FutureWarning: Method .as_matrix will be removed in a future version. Use .values instead.\n",
      "  \n"
     ]
    }
   ],
   "source": [
    "#isolate data\n",
    "d_word20_data = d_word20[d.columns[5:]].as_matrix()"
   ]
  },
  {
   "cell_type": "code",
   "execution_count": 19,
   "metadata": {},
   "outputs": [],
   "source": [
    "features = d_word20_data\n",
    "labels = np.array(d_word20[\"label\"])\n",
    "\n",
    "train_features, test_features, train_labels, test_labels = train_test_split(features, labels, test_size = 0.3)"
   ]
  },
  {
   "cell_type": "code",
   "execution_count": 20,
   "metadata": {},
   "outputs": [
    {
     "name": "stdout",
     "output_type": "stream",
     "text": [
      "Accuracy: 49.59432048681541 %\n"
     ]
    }
   ],
   "source": [
    "from sklearn.ensemble import RandomForestClassifier\n",
    "rf = RandomForestClassifier(n_estimators=1000,random_state=0, n_jobs=-1,class_weight = \"balanced\",max_depth = 16)\n",
    "rf.fit(train_features, train_labels)\n",
    "predictions = rf.predict(test_features)\n",
    "# predictions\n",
    "errors = []\n",
    "for x,pre in enumerate(predictions):\n",
    "    if pre != test_labels[x]:\n",
    "        errors.append((pre,test_labels[x],x))\n",
    "# print(len(errors))\n",
    "# print(len(test_labels))\n",
    "print(\"Accuracy:\",(len(test_labels) - len(errors))/len(test_labels)*100,\"%\")\n"
   ]
  },
  {
   "cell_type": "code",
   "execution_count": 21,
   "metadata": {},
   "outputs": [
    {
     "name": "stdout",
     "output_type": "stream",
     "text": [
      "              precision    recall  f1-score   support\n",
      "\n",
      "           3       0.36      0.53      0.43       945\n",
      "           4       0.58      0.52      0.55      1695\n",
      "           5       0.55      0.44      0.49      1304\n",
      "\n",
      "   micro avg       0.50      0.50      0.50      3944\n",
      "   macro avg       0.50      0.50      0.49      3944\n",
      "weighted avg       0.52      0.50      0.50      3944\n",
      "\n"
     ]
    }
   ],
   "source": [
    "from sklearn import metrics\n",
    "print(metrics.classification_report(predictions, test_labels))\n",
    "# from sklearn.metrics import confusion_matrix\n",
    "# import seaborn as sns; sns.set()\n",
    "# import matplotlib.pyplot as plt\n",
    "# mat = confusion_matrix(test_labels, predictions)\n",
    "# sns.heatmap(mat.T, square = True, annot = True, fmt ='d', cbar = True)\n",
    "# plt.xlabel('true label')\n",
    "# plt.ylabel('predicted label')"
   ]
  },
  {
   "cell_type": "markdown",
   "metadata": {},
   "source": [
    "### cross validate"
   ]
  },
  {
   "cell_type": "code",
   "execution_count": 22,
   "metadata": {},
   "outputs": [
    {
     "name": "stdout",
     "output_type": "stream",
     "text": [
      "--- 4-fold cross-validation accuracy: %50.1 (+/-0.9)\n"
     ]
    }
   ],
   "source": [
    "crossvalidate(rf,features,labels,CV=5)"
   ]
  },
  {
   "cell_type": "markdown",
   "metadata": {},
   "source": [
    "## Random Forest; 70/30 split; min 30 words"
   ]
  },
  {
   "cell_type": "code",
   "execution_count": 23,
   "metadata": {},
   "outputs": [
    {
     "name": "stderr",
     "output_type": "stream",
     "text": [
      "C:\\Users\\Jacob Rosen\\Anaconda3\\lib\\site-packages\\ipykernel_launcher.py:4: FutureWarning: Method .as_matrix will be removed in a future version. Use .values instead.\n",
      "  after removing the cwd from sys.path.\n"
     ]
    },
    {
     "name": "stdout",
     "output_type": "stream",
     "text": [
      "Accuracy: 50.609914352452634 %\n",
      "              precision    recall  f1-score   support\n",
      "\n",
      "           3       0.38      0.53      0.44       947\n",
      "           4       0.57      0.55      0.56      1596\n",
      "           5       0.57      0.44      0.49      1310\n",
      "\n",
      "   micro avg       0.51      0.51      0.51      3853\n",
      "   macro avg       0.51      0.51      0.50      3853\n",
      "weighted avg       0.52      0.51      0.51      3853\n",
      "\n"
     ]
    }
   ],
   "source": [
    "mask_word30 = (d[\"wpp\"] >= 30)\n",
    "# mask_word20\n",
    "d_word30 = d[mask_word30]\n",
    "d_word30_data = d_word30[d.columns[5:]].as_matrix()\n",
    "\n",
    "features = d_word30_data\n",
    "labels = np.array(d_word30[\"label\"])\n",
    "\n",
    "train_features, test_features, train_labels, test_labels = train_test_split(features, labels, test_size = 0.3)\n",
    "\n",
    "rf = RandomForestClassifier(n_estimators=1000,random_state=0, n_jobs=-1,class_weight = \"balanced\",max_depth = 16)\n",
    "rf.fit(train_features, train_labels)\n",
    "predictions = rf.predict(test_features)\n",
    "# predictions\n",
    "errors = []\n",
    "for x,pre in enumerate(predictions):\n",
    "    if pre != test_labels[x]:\n",
    "        errors.append((pre,test_labels[x],x))\n",
    "# print(len(errors))\n",
    "# print(len(test_labels))\n",
    "print(\"Accuracy:\",(len(test_labels) - len(errors))/len(test_labels)*100,\"%\")\n",
    "\n",
    "print(metrics.classification_report(predictions, test_labels))"
   ]
  },
  {
   "cell_type": "markdown",
   "metadata": {},
   "source": [
    "### cross validate"
   ]
  },
  {
   "cell_type": "code",
   "execution_count": 24,
   "metadata": {},
   "outputs": [
    {
     "name": "stdout",
     "output_type": "stream",
     "text": [
      "--- 4-fold cross-validation accuracy: %50.2 (+/-0.7)\n"
     ]
    }
   ],
   "source": [
    "crossvalidate(rf,features,labels,CV=5)"
   ]
  },
  {
   "cell_type": "markdown",
   "metadata": {},
   "source": [
    "# SVM  \n",
    "https://medium.com/all-things-ai/in-depth-parameter-tuning-for-svc-758215394769"
   ]
  },
  {
   "cell_type": "code",
   "execution_count": 25,
   "metadata": {},
   "outputs": [],
   "source": [
    "from sklearn import svm\n",
    "from sklearn.svm import SVC \n"
   ]
  },
  {
   "cell_type": "markdown",
   "metadata": {},
   "source": [
    "## SVM; 70/30 split; min 20 words"
   ]
  },
  {
   "cell_type": "code",
   "execution_count": 26,
   "metadata": {},
   "outputs": [
    {
     "name": "stderr",
     "output_type": "stream",
     "text": [
      "C:\\Users\\Jacob Rosen\\Anaconda3\\lib\\site-packages\\ipykernel_launcher.py:3: FutureWarning: Method .as_matrix will be removed in a future version. Use .values instead.\n",
      "  This is separate from the ipykernel package so we can avoid doing imports until\n"
     ]
    }
   ],
   "source": [
    "mask_word20 = (d[\"wpp\"] >= 20)\n",
    "d_word20 = d[mask_word20]\n",
    "d_word20_data = d_word20[d.columns[5:]].as_matrix()\n",
    "\n",
    "features = d_word20_data\n",
    "labels = np.array(d_word20[\"label\"])\n",
    "\n",
    "train_features, test_features, train_labels, test_labels = train_test_split(features, labels, test_size = 0.3,random_state = 0)"
   ]
  },
  {
   "cell_type": "markdown",
   "metadata": {},
   "source": [
    "### kernel = linear"
   ]
  },
  {
   "cell_type": "code",
   "execution_count": 27,
   "metadata": {},
   "outputs": [],
   "source": [
    "from sklearn.metrics import confusion_matrix\n",
    "svm_model_linear = SVC(kernel = 'linear', C = 1).fit(train_features, train_labels) \n",
    "svm_predictions = svm_model_linear.predict(test_features) \n",
    "  \n",
    "# model accuracy for X_test   \n",
    "accuracy = svm_model_linear.score(test_features, test_labels) \n",
    "  \n",
    "# creating a confusion matrix \n",
    "cm = confusion_matrix(test_labels, svm_predictions) "
   ]
  },
  {
   "cell_type": "code",
   "execution_count": 28,
   "metadata": {},
   "outputs": [
    {
     "name": "stdout",
     "output_type": "stream",
     "text": [
      "0.47439148073022314\n",
      "[[440 376 561]\n",
      " [321 618 570]\n",
      " [134 111 813]]\n"
     ]
    }
   ],
   "source": [
    "print(accuracy)\n",
    "print(cm)"
   ]
  },
  {
   "cell_type": "markdown",
   "metadata": {},
   "source": [
    "#### cross validate"
   ]
  },
  {
   "cell_type": "code",
   "execution_count": 29,
   "metadata": {},
   "outputs": [
    {
     "name": "stdout",
     "output_type": "stream",
     "text": [
      "--- 4-fold cross-validation accuracy: %46.9 (+/-0.2)\n"
     ]
    }
   ],
   "source": [
    "crossvalidate(svm_model_linear,features,labels,CV=5)"
   ]
  },
  {
   "cell_type": "markdown",
   "metadata": {},
   "source": [
    "### kernel = rbf"
   ]
  },
  {
   "cell_type": "code",
   "execution_count": 30,
   "metadata": {},
   "outputs": [
    {
     "name": "stderr",
     "output_type": "stream",
     "text": [
      "C:\\Users\\Jacob Rosen\\Anaconda3\\lib\\site-packages\\sklearn\\svm\\base.py:196: FutureWarning: The default value of gamma will change from 'auto' to 'scale' in version 0.22 to account better for unscaled features. Set gamma explicitly to 'auto' or 'scale' to avoid this warning.\n",
      "  \"avoid this warning.\", FutureWarning)\n"
     ]
    },
    {
     "name": "stdout",
     "output_type": "stream",
     "text": [
      "0.4287525354969574\n",
      "[[762 582  33]\n",
      " [586 868  55]\n",
      " [487 510  61]]\n"
     ]
    }
   ],
   "source": [
    "svm_model_rbf = SVC(kernel = 'rbf', C = 1).fit(train_features, train_labels) \n",
    "svm_predictions = svm_model_rbf.predict(test_features) \n",
    "  \n",
    "# model accuracy for X_test   \n",
    "accuracy = svm_model_rbf.score(test_features, test_labels) \n",
    "  \n",
    "# creating a confusion matrix \n",
    "cm = confusion_matrix(test_labels, svm_predictions) \n",
    "print(accuracy)\n",
    "print(cm)"
   ]
  },
  {
   "cell_type": "markdown",
   "metadata": {},
   "source": [
    "#### cross validate"
   ]
  },
  {
   "cell_type": "code",
   "execution_count": 31,
   "metadata": {},
   "outputs": [
    {
     "name": "stderr",
     "output_type": "stream",
     "text": [
      "C:\\Users\\Jacob Rosen\\Anaconda3\\lib\\site-packages\\sklearn\\svm\\base.py:196: FutureWarning: The default value of gamma will change from 'auto' to 'scale' in version 0.22 to account better for unscaled features. Set gamma explicitly to 'auto' or 'scale' to avoid this warning.\n",
      "  \"avoid this warning.\", FutureWarning)\n",
      "C:\\Users\\Jacob Rosen\\Anaconda3\\lib\\site-packages\\sklearn\\svm\\base.py:196: FutureWarning: The default value of gamma will change from 'auto' to 'scale' in version 0.22 to account better for unscaled features. Set gamma explicitly to 'auto' or 'scale' to avoid this warning.\n",
      "  \"avoid this warning.\", FutureWarning)\n",
      "C:\\Users\\Jacob Rosen\\Anaconda3\\lib\\site-packages\\sklearn\\svm\\base.py:196: FutureWarning: The default value of gamma will change from 'auto' to 'scale' in version 0.22 to account better for unscaled features. Set gamma explicitly to 'auto' or 'scale' to avoid this warning.\n",
      "  \"avoid this warning.\", FutureWarning)\n",
      "C:\\Users\\Jacob Rosen\\Anaconda3\\lib\\site-packages\\sklearn\\svm\\base.py:196: FutureWarning: The default value of gamma will change from 'auto' to 'scale' in version 0.22 to account better for unscaled features. Set gamma explicitly to 'auto' or 'scale' to avoid this warning.\n",
      "  \"avoid this warning.\", FutureWarning)\n",
      "C:\\Users\\Jacob Rosen\\Anaconda3\\lib\\site-packages\\sklearn\\svm\\base.py:196: FutureWarning: The default value of gamma will change from 'auto' to 'scale' in version 0.22 to account better for unscaled features. Set gamma explicitly to 'auto' or 'scale' to avoid this warning.\n",
      "  \"avoid this warning.\", FutureWarning)\n"
     ]
    },
    {
     "name": "stdout",
     "output_type": "stream",
     "text": [
      "--- 4-fold cross-validation accuracy: %43.9 (+/-1.0)\n"
     ]
    }
   ],
   "source": [
    "crossvalidate(svm_model_rbf,features,labels,CV=5)"
   ]
  },
  {
   "cell_type": "markdown",
   "metadata": {},
   "source": [
    "### kernel = poly"
   ]
  },
  {
   "cell_type": "code",
   "execution_count": 32,
   "metadata": {},
   "outputs": [
    {
     "name": "stdout",
     "output_type": "stream",
     "text": [
      "0.47718052738336714\n",
      "[[431 529 417]\n",
      " [262 827 420]\n",
      " [172 262 624]]\n"
     ]
    }
   ],
   "source": [
    "svm_model_poly = SVC(kernel = 'poly', C = 1,gamma=\"scale\").fit(train_features, train_labels) \n",
    "svm_predictions = svm_model_poly.predict(test_features) \n",
    "  \n",
    "# model accuracy for X_test   \n",
    "accuracy = svm_model_poly.score(test_features, test_labels) \n",
    "  \n",
    "# creating a confusion matrix \n",
    "cm = confusion_matrix(test_labels, svm_predictions) \n",
    "print(accuracy)\n",
    "print(cm)"
   ]
  },
  {
   "cell_type": "markdown",
   "metadata": {},
   "source": [
    "#### cross validate"
   ]
  },
  {
   "cell_type": "code",
   "execution_count": 33,
   "metadata": {},
   "outputs": [
    {
     "name": "stdout",
     "output_type": "stream",
     "text": [
      "--- 4-fold cross-validation accuracy: %48.3 (+/-0.9)\n"
     ]
    }
   ],
   "source": [
    "crossvalidate(svm_model_poly,features,labels,CV=5)"
   ]
  }
 ],
 "metadata": {
  "kernelspec": {
   "display_name": "Python 3",
   "language": "python",
   "name": "python3"
  },
  "language_info": {
   "codemirror_mode": {
    "name": "ipython",
    "version": 3
   },
   "file_extension": ".py",
   "mimetype": "text/x-python",
   "name": "python",
   "nbconvert_exporter": "python",
   "pygments_lexer": "ipython3",
   "version": "3.7.3"
  }
 },
 "nbformat": 4,
 "nbformat_minor": 2
}
